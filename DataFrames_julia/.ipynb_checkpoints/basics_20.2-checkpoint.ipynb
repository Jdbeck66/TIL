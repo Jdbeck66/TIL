{
 "cells": [
  {
   "cell_type": "markdown",
   "metadata": {},
   "source": [
    "# DataFrame Basics"
   ]
  },
  {
   "cell_type": "code",
   "execution_count": 27,
   "metadata": {},
   "outputs": [
    {
     "name": "stderr",
     "output_type": "stream",
     "text": [
      "┌ Info: Precompiling Query [1a8c2f83-1ff3-5112-b086-8aa67b057ba1]\n",
      "└ @ Base loading.jl:1278\n"
     ]
    }
   ],
   "source": [
    "using DataFrames, CSV, SQLite, Query"
   ]
  },
  {
   "cell_type": "code",
   "execution_count": 10,
   "metadata": {},
   "outputs": [
    {
     "data": {
      "text/html": [
       "<table class=\"data-frame\"><thead><tr><th></th><th>A</th><th>B</th></tr><tr><th></th><th>Int64</th><th>String</th></tr></thead><tbody><p>4 rows × 2 columns</p><tr><th>1</th><td>1</td><td>M</td></tr><tr><th>2</th><td>2</td><td>F</td></tr><tr><th>3</th><td>3</td><td>F</td></tr><tr><th>4</th><td>4</td><td>M</td></tr></tbody></table>"
      ],
      "text/latex": [
       "\\begin{tabular}{r|cc}\n",
       "\t& A & B\\\\\n",
       "\t\\hline\n",
       "\t& Int64 & String\\\\\n",
       "\t\\hline\n",
       "\t1 & 1 & M \\\\\n",
       "\t2 & 2 & F \\\\\n",
       "\t3 & 3 & F \\\\\n",
       "\t4 & 4 & M \\\\\n",
       "\\end{tabular}\n"
      ],
      "text/plain": [
       "4×2 DataFrame\n",
       "│ Row │ A     │ B      │\n",
       "│     │ \u001b[90mInt64\u001b[39m │ \u001b[90mString\u001b[39m │\n",
       "├─────┼───────┼────────┤\n",
       "│ 1   │ 1     │ M      │\n",
       "│ 2   │ 2     │ F      │\n",
       "│ 3   │ 3     │ F      │\n",
       "│ 4   │ 4     │ M      │"
      ]
     },
     "execution_count": 10,
     "metadata": {},
     "output_type": "execute_result"
    }
   ],
   "source": [
    "df₁ = DataFrame(A = 1:4, B = [\"M\", \"F\",\"F\",\"M\"])"
   ]
  },
  {
   "cell_type": "code",
   "execution_count": 6,
   "metadata": {},
   "outputs": [
    {
     "data": {
      "text/plain": [
       "4-element Array{Int64,1}:\n",
       " 1\n",
       " 2\n",
       " 3\n",
       " 4"
      ]
     },
     "execution_count": 6,
     "metadata": {},
     "output_type": "execute_result"
    }
   ],
   "source": [
    "df₁.A"
   ]
  },
  {
   "cell_type": "code",
   "execution_count": 8,
   "metadata": {},
   "outputs": [
    {
     "data": {
      "text/plain": [
       "4-element Array{Int64,1}:\n",
       " 1\n",
       " 2\n",
       " 3\n",
       " 4"
      ]
     },
     "execution_count": 8,
     "metadata": {},
     "output_type": "execute_result"
    }
   ],
   "source": [
    "df₁[!,:A]"
   ]
  },
  {
   "cell_type": "code",
   "execution_count": 9,
   "metadata": {},
   "outputs": [
    {
     "data": {
      "text/plain": [
       "4-element Array{Int64,1}:\n",
       " 1\n",
       " 2\n",
       " 3\n",
       " 4"
      ]
     },
     "execution_count": 9,
     "metadata": {},
     "output_type": "execute_result"
    }
   ],
   "source": [
    "df₁[:,:A]"
   ]
  },
  {
   "cell_type": "code",
   "execution_count": 12,
   "metadata": {},
   "outputs": [
    {
     "data": {
      "text/plain": [
       "4-element Array{Int64,1}:\n",
       " 1\n",
       " 2\n",
       " 3\n",
       " 4"
      ]
     },
     "execution_count": 12,
     "metadata": {},
     "output_type": "execute_result"
    }
   ],
   "source": [
    "df₁[:,1]"
   ]
  },
  {
   "cell_type": "code",
   "execution_count": 13,
   "metadata": {},
   "outputs": [
    {
     "data": {
      "text/plain": [
       "true"
      ]
     },
     "execution_count": 13,
     "metadata": {},
     "output_type": "execute_result"
    }
   ],
   "source": [
    "df₁.A === df₁[!,:A] #actual column in the dataframe"
   ]
  },
  {
   "cell_type": "code",
   "execution_count": 15,
   "metadata": {},
   "outputs": [
    {
     "data": {
      "text/plain": [
       "false"
      ]
     },
     "execution_count": 15,
     "metadata": {},
     "output_type": "execute_result"
    }
   ],
   "source": [
    "df₁.A === df₁[:,:A] #copy of column in the dataframe"
   ]
  },
  {
   "cell_type": "code",
   "execution_count": 16,
   "metadata": {},
   "outputs": [
    {
     "data": {
      "text/plain": [
       ":A"
      ]
     },
     "execution_count": 16,
     "metadata": {},
     "output_type": "execute_result"
    }
   ],
   "source": [
    "firstcolumn = :A"
   ]
  },
  {
   "cell_type": "code",
   "execution_count": 17,
   "metadata": {},
   "outputs": [
    {
     "data": {
      "text/plain": [
       "true"
      ]
     },
     "execution_count": 17,
     "metadata": {},
     "output_type": "execute_result"
    }
   ],
   "source": [
    "df₁[!, firstcolumn] === df₁.A"
   ]
  },
  {
   "cell_type": "code",
   "execution_count": 18,
   "metadata": {},
   "outputs": [
    {
     "data": {
      "text/plain": [
       "2-element Array{Symbol,1}:\n",
       " :A\n",
       " :B"
      ]
     },
     "execution_count": 18,
     "metadata": {},
     "output_type": "execute_result"
    }
   ],
   "source": [
    "names(df₁)"
   ]
  },
  {
   "cell_type": "markdown",
   "metadata": {},
   "source": [
    "## Build column by column"
   ]
  },
  {
   "cell_type": "code",
   "execution_count": 7,
   "metadata": {},
   "outputs": [
    {
     "data": {
      "text/html": [
       "<table class=\"data-frame\"><thead><tr><th></th></tr><tr><th></th></tr></thead><tbody><p>0 rows × 0 columns</p></tbody></table>"
      ],
      "text/latex": [
       "\\begin{tabular}{r|}\n",
       "\t& \\\\\n",
       "\t\\hline\n",
       "\t& \\\\\n",
       "\t\\hline\n",
       "\\end{tabular}\n"
      ],
      "text/plain": [
       "0×0 DataFrame\n"
      ]
     },
     "execution_count": 7,
     "metadata": {},
     "output_type": "execute_result"
    }
   ],
   "source": [
    "df₂ = DataFrame()"
   ]
  },
  {
   "cell_type": "code",
   "execution_count": 8,
   "metadata": {},
   "outputs": [
    {
     "data": {
      "text/plain": [
       "1:8"
      ]
     },
     "execution_count": 8,
     "metadata": {},
     "output_type": "execute_result"
    }
   ],
   "source": [
    "df₂.A = 1:8"
   ]
  },
  {
   "cell_type": "code",
   "execution_count": 9,
   "metadata": {},
   "outputs": [
    {
     "data": {
      "text/plain": [
       "8-element Array{String,1}:\n",
       " \"M\"\n",
       " \"F\"\n",
       " \"F\"\n",
       " \"M\"\n",
       " \"F\"\n",
       " \"M\"\n",
       " \"M\"\n",
       " \"F\""
      ]
     },
     "execution_count": 9,
     "metadata": {},
     "output_type": "execute_result"
    }
   ],
   "source": [
    "df₂.B = [\"M\", \"F\", \"F\", \"M\", \"F\", \"M\", \"M\", \"F\"]"
   ]
  },
  {
   "cell_type": "code",
   "execution_count": 11,
   "metadata": {},
   "outputs": [
    {
     "data": {
      "text/plain": [
       "8"
      ]
     },
     "execution_count": 11,
     "metadata": {},
     "output_type": "execute_result"
    }
   ],
   "source": [
    "size(df₂,1) # size along the first dimension - rows"
   ]
  },
  {
   "cell_type": "code",
   "execution_count": 13,
   "metadata": {},
   "outputs": [
    {
     "data": {
      "text/plain": [
       "2"
      ]
     },
     "execution_count": 13,
     "metadata": {},
     "output_type": "execute_result"
    }
   ],
   "source": [
    "size(df₂,2) # size along the second dimension - columns"
   ]
  },
  {
   "cell_type": "code",
   "execution_count": 14,
   "metadata": {},
   "outputs": [
    {
     "data": {
      "text/plain": [
       "(8, 2)"
      ]
     },
     "execution_count": 14,
     "metadata": {},
     "output_type": "execute_result"
    }
   ],
   "source": [
    "size(df₂)"
   ]
  },
  {
   "cell_type": "markdown",
   "metadata": {},
   "source": [
    "## Build Row by Row"
   ]
  },
  {
   "cell_type": "code",
   "execution_count": 19,
   "metadata": {},
   "outputs": [
    {
     "data": {
      "text/html": [
       "<table class=\"data-frame\"><thead><tr><th></th><th>A</th><th>B</th></tr><tr><th></th><th>Int64</th><th>String</th></tr></thead><tbody><p>0 rows × 2 columns</p></tbody></table>"
      ],
      "text/latex": [
       "\\begin{tabular}{r|cc}\n",
       "\t& A & B\\\\\n",
       "\t\\hline\n",
       "\t& Int64 & String\\\\\n",
       "\t\\hline\n",
       "\\end{tabular}\n"
      ],
      "text/plain": [
       "0×2 DataFrame\n"
      ]
     },
     "execution_count": 19,
     "metadata": {},
     "output_type": "execute_result"
    }
   ],
   "source": [
    "df₃ = DataFrame(A = Int[], B = String[]) # make an empty dataframe requiring first column have integers and second have strings"
   ]
  },
  {
   "cell_type": "code",
   "execution_count": 20,
   "metadata": {},
   "outputs": [
    {
     "data": {
      "text/html": [
       "<table class=\"data-frame\"><thead><tr><th></th><th>A</th><th>B</th></tr><tr><th></th><th>Int64</th><th>String</th></tr></thead><tbody><p>1 rows × 2 columns</p><tr><th>1</th><td>1</td><td>M</td></tr></tbody></table>"
      ],
      "text/latex": [
       "\\begin{tabular}{r|cc}\n",
       "\t& A & B\\\\\n",
       "\t\\hline\n",
       "\t& Int64 & String\\\\\n",
       "\t\\hline\n",
       "\t1 & 1 & M \\\\\n",
       "\\end{tabular}\n"
      ],
      "text/plain": [
       "1×2 DataFrame\n",
       "│ Row │ A     │ B      │\n",
       "│     │ \u001b[90mInt64\u001b[39m │ \u001b[90mString\u001b[39m │\n",
       "├─────┼───────┼────────┤\n",
       "│ 1   │ 1     │ M      │"
      ]
     },
     "execution_count": 20,
     "metadata": {},
     "output_type": "execute_result"
    }
   ],
   "source": [
    "push!(df₃, (1, \"M\"))"
   ]
  },
  {
   "cell_type": "code",
   "execution_count": 21,
   "metadata": {},
   "outputs": [
    {
     "data": {
      "text/html": [
       "<table class=\"data-frame\"><thead><tr><th></th><th>A</th><th>B</th></tr><tr><th></th><th>Int64</th><th>String</th></tr></thead><tbody><p>2 rows × 2 columns</p><tr><th>1</th><td>1</td><td>M</td></tr><tr><th>2</th><td>3</td><td>F</td></tr></tbody></table>"
      ],
      "text/latex": [
       "\\begin{tabular}{r|cc}\n",
       "\t& A & B\\\\\n",
       "\t\\hline\n",
       "\t& Int64 & String\\\\\n",
       "\t\\hline\n",
       "\t1 & 1 & M \\\\\n",
       "\t2 & 3 & F \\\\\n",
       "\\end{tabular}\n"
      ],
      "text/plain": [
       "2×2 DataFrame\n",
       "│ Row │ A     │ B      │\n",
       "│     │ \u001b[90mInt64\u001b[39m │ \u001b[90mString\u001b[39m │\n",
       "├─────┼───────┼────────┤\n",
       "│ 1   │ 1     │ M      │\n",
       "│ 2   │ 3     │ F      │"
      ]
     },
     "execution_count": 21,
     "metadata": {},
     "output_type": "execute_result"
    }
   ],
   "source": [
    "push!(df₃, Dict(:B => \"F\", :A => 3))"
   ]
  },
  {
   "cell_type": "markdown",
   "metadata": {},
   "source": [
    "## Constructing from other table type"
   ]
  },
  {
   "cell_type": "code",
   "execution_count": 22,
   "metadata": {},
   "outputs": [
    {
     "data": {
      "text/html": [
       "<table class=\"data-frame\"><thead><tr><th></th><th>a</th><th>b</th></tr><tr><th></th><th>Int64</th><th>Symbol</th></tr></thead><tbody><p>3 rows × 2 columns</p><tr><th>1</th><td>1</td><td>a</td></tr><tr><th>2</th><td>2</td><td>b</td></tr><tr><th>3</th><td>3</td><td>c</td></tr></tbody></table>"
      ],
      "text/latex": [
       "\\begin{tabular}{r|cc}\n",
       "\t& a & b\\\\\n",
       "\t\\hline\n",
       "\t& Int64 & Symbol\\\\\n",
       "\t\\hline\n",
       "\t1 & 1 & a \\\\\n",
       "\t2 & 2 & b \\\\\n",
       "\t3 & 3 & c \\\\\n",
       "\\end{tabular}\n"
      ],
      "text/plain": [
       "3×2 DataFrame\n",
       "│ Row │ a     │ b      │\n",
       "│     │ \u001b[90mInt64\u001b[39m │ \u001b[90mSymbol\u001b[39m │\n",
       "├─────┼───────┼────────┤\n",
       "│ 1   │ 1     │ a      │\n",
       "│ 2   │ 2     │ b      │\n",
       "│ 3   │ 3     │ c      │"
      ]
     },
     "execution_count": 22,
     "metadata": {},
     "output_type": "execute_result"
    }
   ],
   "source": [
    "df₄= DataFrame(a=[1,2,3], b=[:a,:b,:c])"
   ]
  },
  {
   "cell_type": "code",
   "execution_count": 25,
   "metadata": {},
   "outputs": [
    {
     "data": {
      "text/plain": [
       "\"dataframe.csv\""
      ]
     },
     "execution_count": 25,
     "metadata": {},
     "output_type": "execute_result"
    }
   ],
   "source": [
    "CSV.write(\"dataframe.csv\",df₄)"
   ]
  },
  {
   "cell_type": "code",
   "execution_count": 28,
   "metadata": {},
   "outputs": [
    {
     "data": {
      "text/html": [
       "<table class=\"data-frame\"><thead><tr><th></th><th>a</th><th>b</th></tr><tr><th></th><th>Int64</th><th>Symbol</th></tr></thead><tbody><p>3 rows × 2 columns</p><tr><th>1</th><td>2</td><td>a</td></tr><tr><th>2</th><td>3</td><td>b</td></tr><tr><th>3</th><td>4</td><td>c</td></tr></tbody></table>"
      ],
      "text/latex": [
       "\\begin{tabular}{r|cc}\n",
       "\t& a & b\\\\\n",
       "\t\\hline\n",
       "\t& Int64 & Symbol\\\\\n",
       "\t\\hline\n",
       "\t1 & 2 & a \\\\\n",
       "\t2 & 3 & b \\\\\n",
       "\t3 & 4 & c \\\\\n",
       "\\end{tabular}\n"
      ],
      "text/plain": [
       "3×2 DataFrame\n",
       "│ Row │ a     │ b      │\n",
       "│     │ \u001b[90mInt64\u001b[39m │ \u001b[90mSymbol\u001b[39m │\n",
       "├─────┼───────┼────────┤\n",
       "│ 1   │ 2     │ a      │\n",
       "│ 2   │ 3     │ b      │\n",
       "│ 3   │ 4     │ c      │"
      ]
     },
     "execution_count": 28,
     "metadata": {},
     "output_type": "execute_result"
    }
   ],
   "source": [
    "df₄ = df₄ |> @map({a=_.a+1, _.b}) |> DataFrame"
   ]
  },
  {
   "cell_type": "code",
   "execution_count": 30,
   "metadata": {},
   "outputs": [
    {
     "data": {
      "text/html": [
       "<table class=\"data-frame\"><thead><tr><th></th><th>A</th><th>B</th><th>C</th></tr><tr><th></th><th>Int64</th><th>Int64</th><th>Int64</th></tr></thead><tbody><p>500 rows × 3 columns</p><tr><th>1</th><td>1</td><td>1</td><td>1</td></tr><tr><th>2</th><td>3</td><td>1</td><td>2</td></tr><tr><th>3</th><td>5</td><td>1</td><td>3</td></tr><tr><th>4</th><td>7</td><td>1</td><td>4</td></tr><tr><th>5</th><td>9</td><td>1</td><td>5</td></tr><tr><th>6</th><td>11</td><td>1</td><td>6</td></tr><tr><th>7</th><td>13</td><td>1</td><td>7</td></tr><tr><th>8</th><td>15</td><td>1</td><td>8</td></tr><tr><th>9</th><td>17</td><td>1</td><td>9</td></tr><tr><th>10</th><td>19</td><td>1</td><td>10</td></tr><tr><th>11</th><td>21</td><td>1</td><td>11</td></tr><tr><th>12</th><td>23</td><td>1</td><td>12</td></tr><tr><th>13</th><td>25</td><td>1</td><td>13</td></tr><tr><th>14</th><td>27</td><td>1</td><td>14</td></tr><tr><th>15</th><td>29</td><td>1</td><td>15</td></tr><tr><th>16</th><td>31</td><td>1</td><td>16</td></tr><tr><th>17</th><td>33</td><td>1</td><td>17</td></tr><tr><th>18</th><td>35</td><td>1</td><td>18</td></tr><tr><th>19</th><td>37</td><td>1</td><td>19</td></tr><tr><th>20</th><td>39</td><td>1</td><td>20</td></tr><tr><th>21</th><td>41</td><td>1</td><td>21</td></tr><tr><th>22</th><td>43</td><td>1</td><td>22</td></tr><tr><th>23</th><td>45</td><td>1</td><td>23</td></tr><tr><th>24</th><td>47</td><td>1</td><td>24</td></tr><tr><th>25</th><td>49</td><td>1</td><td>25</td></tr><tr><th>26</th><td>51</td><td>1</td><td>26</td></tr><tr><th>27</th><td>53</td><td>1</td><td>27</td></tr><tr><th>28</th><td>55</td><td>1</td><td>28</td></tr><tr><th>29</th><td>57</td><td>1</td><td>29</td></tr><tr><th>30</th><td>59</td><td>1</td><td>30</td></tr><tr><th>&vellip;</th><td>&vellip;</td><td>&vellip;</td><td>&vellip;</td></tr></tbody></table>"
      ],
      "text/latex": [
       "\\begin{tabular}{r|ccc}\n",
       "\t& A & B & C\\\\\n",
       "\t\\hline\n",
       "\t& Int64 & Int64 & Int64\\\\\n",
       "\t\\hline\n",
       "\t1 & 1 & 1 & 1 \\\\\n",
       "\t2 & 3 & 1 & 2 \\\\\n",
       "\t3 & 5 & 1 & 3 \\\\\n",
       "\t4 & 7 & 1 & 4 \\\\\n",
       "\t5 & 9 & 1 & 5 \\\\\n",
       "\t6 & 11 & 1 & 6 \\\\\n",
       "\t7 & 13 & 1 & 7 \\\\\n",
       "\t8 & 15 & 1 & 8 \\\\\n",
       "\t9 & 17 & 1 & 9 \\\\\n",
       "\t10 & 19 & 1 & 10 \\\\\n",
       "\t11 & 21 & 1 & 11 \\\\\n",
       "\t12 & 23 & 1 & 12 \\\\\n",
       "\t13 & 25 & 1 & 13 \\\\\n",
       "\t14 & 27 & 1 & 14 \\\\\n",
       "\t15 & 29 & 1 & 15 \\\\\n",
       "\t16 & 31 & 1 & 16 \\\\\n",
       "\t17 & 33 & 1 & 17 \\\\\n",
       "\t18 & 35 & 1 & 18 \\\\\n",
       "\t19 & 37 & 1 & 19 \\\\\n",
       "\t20 & 39 & 1 & 20 \\\\\n",
       "\t21 & 41 & 1 & 21 \\\\\n",
       "\t22 & 43 & 1 & 22 \\\\\n",
       "\t23 & 45 & 1 & 23 \\\\\n",
       "\t24 & 47 & 1 & 24 \\\\\n",
       "\t25 & 49 & 1 & 25 \\\\\n",
       "\t26 & 51 & 1 & 26 \\\\\n",
       "\t27 & 53 & 1 & 27 \\\\\n",
       "\t28 & 55 & 1 & 28 \\\\\n",
       "\t29 & 57 & 1 & 29 \\\\\n",
       "\t30 & 59 & 1 & 30 \\\\\n",
       "\t$\\dots$ & $\\dots$ & $\\dots$ & $\\dots$ \\\\\n",
       "\\end{tabular}\n"
      ],
      "text/plain": [
       "500×3 DataFrame\n",
       "│ Row │ A     │ B     │ C     │\n",
       "│     │ \u001b[90mInt64\u001b[39m │ \u001b[90mInt64\u001b[39m │ \u001b[90mInt64\u001b[39m │\n",
       "├─────┼───────┼───────┼───────┤\n",
       "│ 1   │ 1     │ 1     │ 1     │\n",
       "│ 2   │ 3     │ 1     │ 2     │\n",
       "│ 3   │ 5     │ 1     │ 3     │\n",
       "│ 4   │ 7     │ 1     │ 4     │\n",
       "│ 5   │ 9     │ 1     │ 5     │\n",
       "│ 6   │ 11    │ 1     │ 6     │\n",
       "│ 7   │ 13    │ 1     │ 7     │\n",
       "│ 8   │ 15    │ 1     │ 8     │\n",
       "│ 9   │ 17    │ 1     │ 9     │\n",
       "│ 10  │ 19    │ 1     │ 10    │\n",
       "⋮\n",
       "│ 490 │ 979   │ 10    │ 490   │\n",
       "│ 491 │ 981   │ 10    │ 491   │\n",
       "│ 492 │ 983   │ 10    │ 492   │\n",
       "│ 493 │ 985   │ 10    │ 493   │\n",
       "│ 494 │ 987   │ 10    │ 494   │\n",
       "│ 495 │ 989   │ 10    │ 495   │\n",
       "│ 496 │ 991   │ 10    │ 496   │\n",
       "│ 497 │ 993   │ 10    │ 497   │\n",
       "│ 498 │ 995   │ 10    │ 498   │\n",
       "│ 499 │ 997   │ 10    │ 499   │\n",
       "│ 500 │ 999   │ 10    │ 500   │"
      ]
     },
     "execution_count": 30,
     "metadata": {},
     "output_type": "execute_result"
    }
   ],
   "source": [
    "df₅ = DataFrame(A = 1:2:1000, B = repeat(1:10, inner=50), C = 1:500)"
   ]
  },
  {
   "cell_type": "code",
   "execution_count": 31,
   "metadata": {},
   "outputs": [
    {
     "data": {
      "text/html": [
       "<table class=\"data-frame\"><thead><tr><th></th><th>A</th><th>B</th><th>C</th></tr><tr><th></th><th>Int64</th><th>Int64</th><th>Int64</th></tr></thead><tbody><p>6 rows × 3 columns</p><tr><th>1</th><td>1</td><td>1</td><td>1</td></tr><tr><th>2</th><td>3</td><td>1</td><td>2</td></tr><tr><th>3</th><td>5</td><td>1</td><td>3</td></tr><tr><th>4</th><td>7</td><td>1</td><td>4</td></tr><tr><th>5</th><td>9</td><td>1</td><td>5</td></tr><tr><th>6</th><td>11</td><td>1</td><td>6</td></tr></tbody></table>"
      ],
      "text/latex": [
       "\\begin{tabular}{r|ccc}\n",
       "\t& A & B & C\\\\\n",
       "\t\\hline\n",
       "\t& Int64 & Int64 & Int64\\\\\n",
       "\t\\hline\n",
       "\t1 & 1 & 1 & 1 \\\\\n",
       "\t2 & 3 & 1 & 2 \\\\\n",
       "\t3 & 5 & 1 & 3 \\\\\n",
       "\t4 & 7 & 1 & 4 \\\\\n",
       "\t5 & 9 & 1 & 5 \\\\\n",
       "\t6 & 11 & 1 & 6 \\\\\n",
       "\\end{tabular}\n"
      ],
      "text/plain": [
       "6×3 DataFrame\n",
       "│ Row │ A     │ B     │ C     │\n",
       "│     │ \u001b[90mInt64\u001b[39m │ \u001b[90mInt64\u001b[39m │ \u001b[90mInt64\u001b[39m │\n",
       "├─────┼───────┼───────┼───────┤\n",
       "│ 1   │ 1     │ 1     │ 1     │\n",
       "│ 2   │ 3     │ 1     │ 2     │\n",
       "│ 3   │ 5     │ 1     │ 3     │\n",
       "│ 4   │ 7     │ 1     │ 4     │\n",
       "│ 5   │ 9     │ 1     │ 5     │\n",
       "│ 6   │ 11    │ 1     │ 6     │"
      ]
     },
     "execution_count": 31,
     "metadata": {},
     "output_type": "execute_result"
    }
   ],
   "source": [
    "first(df₅,6)"
   ]
  },
  {
   "cell_type": "code",
   "execution_count": 33,
   "metadata": {},
   "outputs": [
    {
     "data": {
      "text/html": [
       "<table class=\"data-frame\"><thead><tr><th></th><th>A</th><th>B</th><th>C</th></tr><tr><th></th><th>Int64</th><th>Int64</th><th>Int64</th></tr></thead><tbody><p>6 rows × 3 columns</p><tr><th>1</th><td>989</td><td>10</td><td>495</td></tr><tr><th>2</th><td>991</td><td>10</td><td>496</td></tr><tr><th>3</th><td>993</td><td>10</td><td>497</td></tr><tr><th>4</th><td>995</td><td>10</td><td>498</td></tr><tr><th>5</th><td>997</td><td>10</td><td>499</td></tr><tr><th>6</th><td>999</td><td>10</td><td>500</td></tr></tbody></table>"
      ],
      "text/latex": [
       "\\begin{tabular}{r|ccc}\n",
       "\t& A & B & C\\\\\n",
       "\t\\hline\n",
       "\t& Int64 & Int64 & Int64\\\\\n",
       "\t\\hline\n",
       "\t1 & 989 & 10 & 495 \\\\\n",
       "\t2 & 991 & 10 & 496 \\\\\n",
       "\t3 & 993 & 10 & 497 \\\\\n",
       "\t4 & 995 & 10 & 498 \\\\\n",
       "\t5 & 997 & 10 & 499 \\\\\n",
       "\t6 & 999 & 10 & 500 \\\\\n",
       "\\end{tabular}\n"
      ],
      "text/plain": [
       "6×3 DataFrame\n",
       "│ Row │ A     │ B     │ C     │\n",
       "│     │ \u001b[90mInt64\u001b[39m │ \u001b[90mInt64\u001b[39m │ \u001b[90mInt64\u001b[39m │\n",
       "├─────┼───────┼───────┼───────┤\n",
       "│ 1   │ 989   │ 10    │ 495   │\n",
       "│ 2   │ 991   │ 10    │ 496   │\n",
       "│ 3   │ 993   │ 10    │ 497   │\n",
       "│ 4   │ 995   │ 10    │ 498   │\n",
       "│ 5   │ 997   │ 10    │ 499   │\n",
       "│ 6   │ 999   │ 10    │ 500   │"
      ]
     },
     "execution_count": 33,
     "metadata": {},
     "output_type": "execute_result"
    }
   ],
   "source": [
    "last(df₅,6)"
   ]
  },
  {
   "cell_type": "code",
   "execution_count": 34,
   "metadata": {},
   "outputs": [
    {
     "data": {
      "text/html": [
       "<table class=\"data-frame\"><thead><tr><th></th><th>A</th><th>B</th><th>C</th></tr><tr><th></th><th>Int64</th><th>Int64</th><th>Int64</th></tr></thead><tbody><p>5 rows × 3 columns</p><tr><th>1</th><td>1</td><td>1</td><td>1</td></tr><tr><th>2</th><td>3</td><td>1</td><td>2</td></tr><tr><th>3</th><td>5</td><td>1</td><td>3</td></tr><tr><th>4</th><td>7</td><td>1</td><td>4</td></tr><tr><th>5</th><td>9</td><td>1</td><td>5</td></tr></tbody></table>"
      ],
      "text/latex": [
       "\\begin{tabular}{r|ccc}\n",
       "\t& A & B & C\\\\\n",
       "\t\\hline\n",
       "\t& Int64 & Int64 & Int64\\\\\n",
       "\t\\hline\n",
       "\t1 & 1 & 1 & 1 \\\\\n",
       "\t2 & 3 & 1 & 2 \\\\\n",
       "\t3 & 5 & 1 & 3 \\\\\n",
       "\t4 & 7 & 1 & 4 \\\\\n",
       "\t5 & 9 & 1 & 5 \\\\\n",
       "\\end{tabular}\n"
      ],
      "text/plain": [
       "5×3 DataFrame\n",
       "│ Row │ A     │ B     │ C     │\n",
       "│     │ \u001b[90mInt64\u001b[39m │ \u001b[90mInt64\u001b[39m │ \u001b[90mInt64\u001b[39m │\n",
       "├─────┼───────┼───────┼───────┤\n",
       "│ 1   │ 1     │ 1     │ 1     │\n",
       "│ 2   │ 3     │ 1     │ 2     │\n",
       "│ 3   │ 5     │ 1     │ 3     │\n",
       "│ 4   │ 7     │ 1     │ 4     │\n",
       "│ 5   │ 9     │ 1     │ 5     │"
      ]
     },
     "execution_count": 34,
     "metadata": {},
     "output_type": "execute_result"
    }
   ],
   "source": [
    "df₅[1:5,:]"
   ]
  },
  {
   "cell_type": "code",
   "execution_count": 35,
   "metadata": {},
   "outputs": [
    {
     "data": {
      "text/html": [
       "<table class=\"data-frame\"><thead><tr><th></th><th>A</th><th>B</th><th>C</th></tr><tr><th></th><th>Int64</th><th>Int64</th><th>Int64</th></tr></thead><tbody><p>3 rows × 3 columns</p><tr><th>1</th><td>1</td><td>1</td><td>1</td></tr><tr><th>2</th><td>9</td><td>1</td><td>5</td></tr><tr><th>3</th><td>19</td><td>1</td><td>10</td></tr></tbody></table>"
      ],
      "text/latex": [
       "\\begin{tabular}{r|ccc}\n",
       "\t& A & B & C\\\\\n",
       "\t\\hline\n",
       "\t& Int64 & Int64 & Int64\\\\\n",
       "\t\\hline\n",
       "\t1 & 1 & 1 & 1 \\\\\n",
       "\t2 & 9 & 1 & 5 \\\\\n",
       "\t3 & 19 & 1 & 10 \\\\\n",
       "\\end{tabular}\n"
      ],
      "text/plain": [
       "3×3 DataFrame\n",
       "│ Row │ A     │ B     │ C     │\n",
       "│     │ \u001b[90mInt64\u001b[39m │ \u001b[90mInt64\u001b[39m │ \u001b[90mInt64\u001b[39m │\n",
       "├─────┼───────┼───────┼───────┤\n",
       "│ 1   │ 1     │ 1     │ 1     │\n",
       "│ 2   │ 9     │ 1     │ 5     │\n",
       "│ 3   │ 19    │ 1     │ 10    │"
      ]
     },
     "execution_count": 35,
     "metadata": {},
     "output_type": "execute_result"
    }
   ],
   "source": [
    "df₅[[1,5,10],:] # Rows 1,5,10 and all columns"
   ]
  },
  {
   "cell_type": "code",
   "execution_count": 36,
   "metadata": {},
   "outputs": [
    {
     "data": {
      "text/html": [
       "<table class=\"data-frame\"><thead><tr><th></th><th>A</th><th>B</th></tr><tr><th></th><th>Int64</th><th>Int64</th></tr></thead><tbody><p>500 rows × 2 columns</p><tr><th>1</th><td>1</td><td>1</td></tr><tr><th>2</th><td>3</td><td>1</td></tr><tr><th>3</th><td>5</td><td>1</td></tr><tr><th>4</th><td>7</td><td>1</td></tr><tr><th>5</th><td>9</td><td>1</td></tr><tr><th>6</th><td>11</td><td>1</td></tr><tr><th>7</th><td>13</td><td>1</td></tr><tr><th>8</th><td>15</td><td>1</td></tr><tr><th>9</th><td>17</td><td>1</td></tr><tr><th>10</th><td>19</td><td>1</td></tr><tr><th>11</th><td>21</td><td>1</td></tr><tr><th>12</th><td>23</td><td>1</td></tr><tr><th>13</th><td>25</td><td>1</td></tr><tr><th>14</th><td>27</td><td>1</td></tr><tr><th>15</th><td>29</td><td>1</td></tr><tr><th>16</th><td>31</td><td>1</td></tr><tr><th>17</th><td>33</td><td>1</td></tr><tr><th>18</th><td>35</td><td>1</td></tr><tr><th>19</th><td>37</td><td>1</td></tr><tr><th>20</th><td>39</td><td>1</td></tr><tr><th>21</th><td>41</td><td>1</td></tr><tr><th>22</th><td>43</td><td>1</td></tr><tr><th>23</th><td>45</td><td>1</td></tr><tr><th>24</th><td>47</td><td>1</td></tr><tr><th>25</th><td>49</td><td>1</td></tr><tr><th>26</th><td>51</td><td>1</td></tr><tr><th>27</th><td>53</td><td>1</td></tr><tr><th>28</th><td>55</td><td>1</td></tr><tr><th>29</th><td>57</td><td>1</td></tr><tr><th>30</th><td>59</td><td>1</td></tr><tr><th>&vellip;</th><td>&vellip;</td><td>&vellip;</td></tr></tbody></table>"
      ],
      "text/latex": [
       "\\begin{tabular}{r|cc}\n",
       "\t& A & B\\\\\n",
       "\t\\hline\n",
       "\t& Int64 & Int64\\\\\n",
       "\t\\hline\n",
       "\t1 & 1 & 1 \\\\\n",
       "\t2 & 3 & 1 \\\\\n",
       "\t3 & 5 & 1 \\\\\n",
       "\t4 & 7 & 1 \\\\\n",
       "\t5 & 9 & 1 \\\\\n",
       "\t6 & 11 & 1 \\\\\n",
       "\t7 & 13 & 1 \\\\\n",
       "\t8 & 15 & 1 \\\\\n",
       "\t9 & 17 & 1 \\\\\n",
       "\t10 & 19 & 1 \\\\\n",
       "\t11 & 21 & 1 \\\\\n",
       "\t12 & 23 & 1 \\\\\n",
       "\t13 & 25 & 1 \\\\\n",
       "\t14 & 27 & 1 \\\\\n",
       "\t15 & 29 & 1 \\\\\n",
       "\t16 & 31 & 1 \\\\\n",
       "\t17 & 33 & 1 \\\\\n",
       "\t18 & 35 & 1 \\\\\n",
       "\t19 & 37 & 1 \\\\\n",
       "\t20 & 39 & 1 \\\\\n",
       "\t21 & 41 & 1 \\\\\n",
       "\t22 & 43 & 1 \\\\\n",
       "\t23 & 45 & 1 \\\\\n",
       "\t24 & 47 & 1 \\\\\n",
       "\t25 & 49 & 1 \\\\\n",
       "\t26 & 51 & 1 \\\\\n",
       "\t27 & 53 & 1 \\\\\n",
       "\t28 & 55 & 1 \\\\\n",
       "\t29 & 57 & 1 \\\\\n",
       "\t30 & 59 & 1 \\\\\n",
       "\t$\\dots$ & $\\dots$ & $\\dots$ \\\\\n",
       "\\end{tabular}\n"
      ],
      "text/plain": [
       "500×2 DataFrame\n",
       "│ Row │ A     │ B     │\n",
       "│     │ \u001b[90mInt64\u001b[39m │ \u001b[90mInt64\u001b[39m │\n",
       "├─────┼───────┼───────┤\n",
       "│ 1   │ 1     │ 1     │\n",
       "│ 2   │ 3     │ 1     │\n",
       "│ 3   │ 5     │ 1     │\n",
       "│ 4   │ 7     │ 1     │\n",
       "│ 5   │ 9     │ 1     │\n",
       "│ 6   │ 11    │ 1     │\n",
       "│ 7   │ 13    │ 1     │\n",
       "│ 8   │ 15    │ 1     │\n",
       "│ 9   │ 17    │ 1     │\n",
       "│ 10  │ 19    │ 1     │\n",
       "⋮\n",
       "│ 490 │ 979   │ 10    │\n",
       "│ 491 │ 981   │ 10    │\n",
       "│ 492 │ 983   │ 10    │\n",
       "│ 493 │ 985   │ 10    │\n",
       "│ 494 │ 987   │ 10    │\n",
       "│ 495 │ 989   │ 10    │\n",
       "│ 496 │ 991   │ 10    │\n",
       "│ 497 │ 993   │ 10    │\n",
       "│ 498 │ 995   │ 10    │\n",
       "│ 499 │ 997   │ 10    │\n",
       "│ 500 │ 999   │ 10    │"
      ]
     },
     "execution_count": 36,
     "metadata": {},
     "output_type": "execute_result"
    }
   ],
   "source": [
    "df₅[:,[:A, :B]]"
   ]
  },
  {
   "cell_type": "code",
   "execution_count": 39,
   "metadata": {},
   "outputs": [
    {
     "data": {
      "text/html": [
       "<table class=\"data-frame\"><thead><tr><th></th><th>C</th></tr><tr><th></th><th>Int64</th></tr></thead><tbody><p>2 rows × 1 columns</p><tr><th>1</th><td>3</td></tr><tr><th>2</th><td>1</td></tr></tbody></table>"
      ],
      "text/latex": [
       "\\begin{tabular}{r|c}\n",
       "\t& C\\\\\n",
       "\t\\hline\n",
       "\t& Int64\\\\\n",
       "\t\\hline\n",
       "\t1 & 3 \\\\\n",
       "\t2 & 1 \\\\\n",
       "\\end{tabular}\n"
      ],
      "text/plain": [
       "2×1 DataFrame\n",
       "│ Row │ C     │\n",
       "│     │ \u001b[90mInt64\u001b[39m │\n",
       "├─────┼───────┤\n",
       "│ 1   │ 3     │\n",
       "│ 2   │ 1     │"
      ]
     },
     "execution_count": 39,
     "metadata": {},
     "output_type": "execute_result"
    }
   ],
   "source": [
    "df₅[[3,1],[:C]] #rows 3 and 1, column C"
   ]
  },
  {
   "cell_type": "code",
   "execution_count": 41,
   "metadata": {},
   "outputs": [
    {
     "data": {
      "text/html": [
       "<table class=\"data-frame\"><thead><tr><th></th><th>A</th></tr><tr><th></th><th>Int64</th></tr></thead><tbody><p>500 rows × 1 columns</p><tr><th>1</th><td>1</td></tr><tr><th>2</th><td>3</td></tr><tr><th>3</th><td>5</td></tr><tr><th>4</th><td>7</td></tr><tr><th>5</th><td>9</td></tr><tr><th>6</th><td>11</td></tr><tr><th>7</th><td>13</td></tr><tr><th>8</th><td>15</td></tr><tr><th>9</th><td>17</td></tr><tr><th>10</th><td>19</td></tr><tr><th>11</th><td>21</td></tr><tr><th>12</th><td>23</td></tr><tr><th>13</th><td>25</td></tr><tr><th>14</th><td>27</td></tr><tr><th>15</th><td>29</td></tr><tr><th>16</th><td>31</td></tr><tr><th>17</th><td>33</td></tr><tr><th>18</th><td>35</td></tr><tr><th>19</th><td>37</td></tr><tr><th>20</th><td>39</td></tr><tr><th>21</th><td>41</td></tr><tr><th>22</th><td>43</td></tr><tr><th>23</th><td>45</td></tr><tr><th>24</th><td>47</td></tr><tr><th>25</th><td>49</td></tr><tr><th>26</th><td>51</td></tr><tr><th>27</th><td>53</td></tr><tr><th>28</th><td>55</td></tr><tr><th>29</th><td>57</td></tr><tr><th>30</th><td>59</td></tr><tr><th>&vellip;</th><td>&vellip;</td></tr></tbody></table>"
      ],
      "text/latex": [
       "\\begin{tabular}{r|c}\n",
       "\t& A\\\\\n",
       "\t\\hline\n",
       "\t& Int64\\\\\n",
       "\t\\hline\n",
       "\t1 & 1 \\\\\n",
       "\t2 & 3 \\\\\n",
       "\t3 & 5 \\\\\n",
       "\t4 & 7 \\\\\n",
       "\t5 & 9 \\\\\n",
       "\t6 & 11 \\\\\n",
       "\t7 & 13 \\\\\n",
       "\t8 & 15 \\\\\n",
       "\t9 & 17 \\\\\n",
       "\t10 & 19 \\\\\n",
       "\t11 & 21 \\\\\n",
       "\t12 & 23 \\\\\n",
       "\t13 & 25 \\\\\n",
       "\t14 & 27 \\\\\n",
       "\t15 & 29 \\\\\n",
       "\t16 & 31 \\\\\n",
       "\t17 & 33 \\\\\n",
       "\t18 & 35 \\\\\n",
       "\t19 & 37 \\\\\n",
       "\t20 & 39 \\\\\n",
       "\t21 & 41 \\\\\n",
       "\t22 & 43 \\\\\n",
       "\t23 & 45 \\\\\n",
       "\t24 & 47 \\\\\n",
       "\t25 & 49 \\\\\n",
       "\t26 & 51 \\\\\n",
       "\t27 & 53 \\\\\n",
       "\t28 & 55 \\\\\n",
       "\t29 & 57 \\\\\n",
       "\t30 & 59 \\\\\n",
       "\t$\\dots$ & $\\dots$ \\\\\n",
       "\\end{tabular}\n"
      ],
      "text/plain": [
       "500×1 DataFrame\n",
       "│ Row │ A     │\n",
       "│     │ \u001b[90mInt64\u001b[39m │\n",
       "├─────┼───────┤\n",
       "│ 1   │ 1     │\n",
       "│ 2   │ 3     │\n",
       "│ 3   │ 5     │\n",
       "│ 4   │ 7     │\n",
       "│ 5   │ 9     │\n",
       "│ 6   │ 11    │\n",
       "│ 7   │ 13    │\n",
       "│ 8   │ 15    │\n",
       "│ 9   │ 17    │\n",
       "│ 10  │ 19    │\n",
       "⋮\n",
       "│ 490 │ 979   │\n",
       "│ 491 │ 981   │\n",
       "│ 492 │ 983   │\n",
       "│ 493 │ 985   │\n",
       "│ 494 │ 987   │\n",
       "│ 495 │ 989   │\n",
       "│ 496 │ 991   │\n",
       "│ 497 │ 993   │\n",
       "│ 498 │ 995   │\n",
       "│ 499 │ 997   │\n",
       "│ 500 │ 999   │"
      ]
     },
     "execution_count": 41,
     "metadata": {},
     "output_type": "execute_result"
    }
   ],
   "source": [
    "df₅[:,[:A]] # the [:A] returns a dataframe object from A"
   ]
  },
  {
   "cell_type": "code",
   "execution_count": 42,
   "metadata": {},
   "outputs": [
    {
     "data": {
      "text/plain": [
       "500-element Array{Int64,1}:\n",
       "   1\n",
       "   3\n",
       "   5\n",
       "   7\n",
       "   9\n",
       "  11\n",
       "  13\n",
       "  15\n",
       "  17\n",
       "  19\n",
       "  21\n",
       "  23\n",
       "  25\n",
       "   ⋮\n",
       " 977\n",
       " 979\n",
       " 981\n",
       " 983\n",
       " 985\n",
       " 987\n",
       " 989\n",
       " 991\n",
       " 993\n",
       " 995\n",
       " 997\n",
       " 999"
      ]
     },
     "execution_count": 42,
     "metadata": {},
     "output_type": "execute_result"
    }
   ],
   "source": [
    "df₅[:,:A] #Returns an vector of elements from A"
   ]
  }
 ],
 "metadata": {
  "kernelspec": {
   "display_name": "Julia 1.5.3",
   "language": "julia",
   "name": "julia-1.5"
  },
  "language_info": {
   "file_extension": ".jl",
   "mimetype": "application/julia",
   "name": "julia",
   "version": "1.5.3"
  }
 },
 "nbformat": 4,
 "nbformat_minor": 4
}
